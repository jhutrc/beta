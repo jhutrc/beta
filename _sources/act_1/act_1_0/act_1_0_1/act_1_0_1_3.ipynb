{
 "cells": [
  {
   "cell_type": "markdown",
   "metadata": {},
   "source": [
    "# 6. Git \n",
    "\n",
    "\n",
    "```{margin}\n",
    "```{admonition} Goals\n",
    ":class: tip\n",
    "\n",
    "1. Understand and practice direct commits to the repository.\n",
    "2. Explore tools like GitHub Desktop for streamlined version control.\n",
    "3. But aim to use the command line for versatile Git operations.\n",
    "```\n",
    "\n",
    "![The JHUTRC Hub and Spoke Logo](https://raw.githubusercontent.com/jhutrc/jhutrc.github.io/main/png/hub_and_spoke.jpg)\n",
    "\n",
    "**Embracing Diversity in Our Collaboration Sphere**\n",
    "\n",
    "The silhouette of our logo captures the spirit of our team at the academic medical institution. The hub-and-spoke model encapsulates how every branch, every individual, converges towards a unified purpose. This design resonates with the essence of our work — where collaboration and individual brilliance merge to further the frontiers of research.\n",
    "\n",
    "**No Hierarchy, Just Convergence**\n",
    "\n",
    "True to the hub-and-spoke model, our ethos is rooted in equality. Whether one's at the periphery or closer to the hub, every voice is pivotal. Seasoned academicians, budding researchers, and every spoke in between, drive us forward.\n",
    "\n",
    "**Git: Our Collaboration Hub**\n",
    "\n",
    "Our \"hub,\" in many respects, is Git. Just as every spoke feeds into the central hub, [Git's version control](./act_1_0_1_2.ipynb) prowess ensures that every contribution weaves seamlessly into our collective tapestry, without overriding or lost fragments.\n",
    "\n",
    "**Branching Out and Converging**\n",
    "\n",
    "Every spoke on our logo signifies freedom — the freedom to branch out and innovate (see video below for step-by-step guide). With Git, these branches allow us to experiment without disturbing the core. Yet, they always have a path back to the hub, ensuring harmonious integration.\n",
    "\n",
    "<iframe width=\"560\" height=\"315\" src=\"https://www.youtube.com/embed/R6l2PxN10eo\" title=\"YouTube video player\" frameborder=\"0\" allow=\"accelerometer; autoplay; clipboard-write; encrypted-media; gyroscope; picture-in-picture\" allowfullscreen></iframe>  \n",
    "\n",
    "**Circles of Safety**\n",
    "\n",
    "Mistakes, like branches, are inevitable. Yet, with Git's meticulous versioning, they're never a dead-end. We can always trace back to a version that resonated well, safeguarding the sanctity of our work.\n",
    "\n",
    "**Inviting Every Spoke**\n",
    "\n",
    "From students to experts, every \"spoke\" or contributor brings a unique perspective. As our logo suggests, diversity isn't just welcomed; it's integral. This richness in perspectives propels our research towards unparalleled breakthroughs.\n",
    "\n",
    "**Envisioning Tomorrow**\n",
    "\n",
    "To raise clinical research standards, we’re integrating the hub-and-spoke philosophy with tools like Git. This synergy promises work that’s not only of supreme quality but also of profound impact.\n",
    "\n",
    "**In Conclusion**\n",
    "\n",
    "Our logo isn’t just a design; it’s a testament to our beliefs and our approach to research. By marrying the hub-and-spoke model with Git, we’re ready to chart new territories in clinical research. Forward, together. 🌍📚🔬🚀\n",
    "\n"
   ]
  }
 ],
 "metadata": {
  "language_info": {
   "name": "python"
  },
  "orig_nbformat": 4
 },
 "nbformat": 4,
 "nbformat_minor": 2
}
