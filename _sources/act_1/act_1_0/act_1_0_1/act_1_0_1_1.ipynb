{
 "cells": [
  {
   "cell_type": "markdown",
   "metadata": {},
   "source": [
    "# 4. Manuscripts\n",
    "\n",
    "**Transitions from the Previous Chapters**\n",
    "\n",
    "In the journey of clinical research, after identifying challenges and implementing rigorous methodologies, comes the imperative of sharing findings. As we pen down our research into manuscripts, we often encounter another layer of complexity: manuscript versioning. The challenge? Keeping everything organized, especially when co-authoring.\n",
    "\n",
    "```{margin}  \n",
    "```unix\n",
    "No more manuscript_july26.docx\n",
    "Or manuscript_final.docx\n",
    "Ha! manuscript_final_v2.docx\n",
    "Well.. manuscript_final_final.docx\n",
    "```\n",
    "\n",
    "**Introducing Fena: A Game-Changer**\n",
    "\n",
    "Fena emerges as the beacon for researchers grappling with multiple manuscript versions. Think of it as the virtual bookshelf for all your drafts, meticulously labeled, with every version accessible at a click. It's not just about storage; it's about evolution – tracking your manuscript's growth and ensuring you never lose any valuable piece of it. Watch the 3 minute video below to learn more about Fena.\n",
    "\n",
    "<iframe width=\"560\" height=\"315\" src=\"https://www.youtube.com/embed/CIS6l7t0sH8\" title=\"YouTube video player\" frameborder=\"0\" allow=\"accelerometer; autoplay; clipboard-write; encrypted-media; gyroscope; picture-in-picture\" allowfullscreen></iframe> \n",
    "\n",
    "**Why Fena? The Old Versus The New**\n",
    "\n",
    "Manuscripts, in their essence, are dynamic. As we incorporate feedback, delve deeper into data, or engage with co-authors, they evolve. Traditional methods, like the haphazard naming of files, often result in chaos. Fena, on the other hand, simplifies this process, offering a centralized system where each change is documented and stored, giving authors the freedom to explore without the fear of losing any work.\n",
    "\n",
    "**Embrace Modern Techniques with Fena**\n",
    "\n",
    "Borrowing from the tech world, Fena utilizes the principles of Git, a powerful version control system. From effortless version tracking, clean file naming conventions, to branching for creative exploration, Fena integrates all these capabilities, making manuscript management straightforward and efficient.\n",
    "\n",
    "**Universal Relevance in Academia**\n",
    "\n",
    "The beauty of version control transcends disciplines. Whether you're starting as a high school student or you're an established faculty member in academic medicine, tools like Git and platforms like GitHub have something to offer everyone. It's about minimizing the hassle and maximizing the creative process.\n",
    "\n",
    "**Conclusion: The Future of Academic Writing**\n",
    "\n",
    "Let's revolutionize the way we approach academic writing. With tools like Fena and the principles of Git at our fingertips, we're poised to turn manuscript chaos into a symphony of organized, collaborative brilliance.\n",
    "\n"
   ]
  }
 ],
 "metadata": {
  "language_info": {
   "name": "python"
  },
  "orig_nbformat": 4
 },
 "nbformat": 4,
 "nbformat_minor": 2
}
