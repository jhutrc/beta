{
 "cells": [
  {
   "cell_type": "markdown",
   "metadata": {},
   "source": [
    "#     Learning\n",
    "\n",
    "Generative adversarial networks pit two neural networks against each other in a kind of game, where one network (the generator) tries to create fake data that looks real, while the other (the discriminator) tries to tell real from fake. \n",
    "\n",
    "The generator is trained to fool the discriminator, and the discriminator is trained to not be fooled by the generator. The result is a generator network that can create realistic fake data. GANs are used in a variety of applications, including generating images, text, and music.\n",
    "\n",
    "As a subset of unsupervised machine learning, here two networks are trained together in a competitive fashion.\n",
    "\n",
    "Is there any other way to address the problem of fraud detection in clinical and public health research? Can we just rely on courses on ethics? Can we just rely on the integrity of the researchers? "
   ]
  }
 ],
 "metadata": {
  "language_info": {
   "name": "python"
  },
  "orig_nbformat": 4
 },
 "nbformat": 4,
 "nbformat_minor": 2
}
