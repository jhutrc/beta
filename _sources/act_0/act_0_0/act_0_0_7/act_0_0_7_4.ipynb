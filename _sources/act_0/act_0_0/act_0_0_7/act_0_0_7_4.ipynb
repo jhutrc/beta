{
 "cells": [
  {
   "cell_type": "markdown",
   "metadata": {},
   "source": [
    "Over the last two decades, the number of older adults (aged ≥ 50) undergoing live donor nephrectomy has quadrupled. This trend is likely to continue, reflecting changes in demographics and healthcare practices.\n",
    "\n",
    "**Background:**\n",
    "\n",
    "There is a notable knowledge gap in understanding the resiliency to physical stress in older kidney donors. Beyond age-related vulnerability to surgical stress, this aging population may experience significant glomerular senescence, an inadequate adaptive response to the 50% loss of nephron mass, resulting in a very high likelihood of chronic kidney disease (CKD) in their lifetime.\n",
    "\n",
    "Approximately 80% of older donors have a post-donation glomerular filtration rate (GFR) < 60 ml/min/1.73 m² and meet the standard definition of CKD. As these donors progress towards CKD, they are likely to become frail, at an increased risk of hospitalization. No study has yet focused on identifying clinical signatures of resiliency in older persons undergoing live donor nephrectomy.\n",
    "\n",
    "The renal system, directly impacted by nephrectomy, has resiliency factors that affect the health and well-being of older donors. Discussions with these potential donors should address the critical personal question: \"Can I safely donate my kidney?\" rather than the population-level question posed by the 2017 KDIGO guidelines: \"How many ESRD events in younger donors may be averted by transplanting older donors instead?\"\n",
    "\n",
    "**Scientific Aims:**\n",
    "\n",
    "1. Quantify donation-attributable risk of ESRD and mortality in older donors.\n",
    "2. Describe the prevalence of hospitalizations in older donors vs. older non-donors.\n",
    "3. Implement a risk calculator for ESRD, mortality, and sentinel hospitalization in older donors. Get necessary training to help meet these goals.\n",
    "\n",
    "**Operational Plan:**\n",
    "\n",
    "The proposed plan included enrollment in the PhD in Clinical Investigation Program, comprehensive coursework in aging research, and a mentorship plan prepared by experts in kidney disease, aging research, information sciences, and faculty mentorship.:\n",
    "\n",
    "1. Receive formal training in aging research.\n",
    "2. Apply for and secure R01 grant funding (preliminary R03/R21 mechanisms).\n",
    "3. Establish a research program in aging and kidney disease.\n",
    "4. Nurture a platform for mentorship of future clinician-scientists as well as a pipeline for future research.\n",
    "\n",
    "**Public Health Relevance:**\n",
    "\n",
    "Over the last 20 years, the number of older adults (aged ≥ 50) undergoing live donor nephrectomy has increased fourfold. With the aging US population, the new kidney transplant allocation system, and recent changes to Kidney Disease: Improving Global Outcomes (KDIGO) practice guidelines, this trend is expected to persist. The goal of this project is to enhance our understanding of the perioperative and long-term risks most pertinent to older donors, thereby informing dialogue with care providers."
   ]
  },
  {
   "cell_type": "markdown",
   "metadata": {},
   "source": []
  }
 ],
 "metadata": {
  "language_info": {
   "name": "python"
  },
  "orig_nbformat": 4
 },
 "nbformat": 4,
 "nbformat_minor": 2
}
