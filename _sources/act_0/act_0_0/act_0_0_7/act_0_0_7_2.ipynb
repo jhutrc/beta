{
 "cells": [
  {
   "cell_type": "markdown",
   "metadata": {},
   "source": [
    "1. Perioperative and long-term [risks](https://www.renalandurologynews.com/home/conference-highlights/american-transplant-congress/cvd-diabetes-ups-hospitalization-risk-for-living-kidney-donors/) following nephrectomy in older [living kidney donors](https://www.amjtransplant.org/article/S1600-6135(22)27840-X/fulltext)  \n",
    "2. A user-friendly Stata command for creating an [NHANES dataset](./act_0_0_7_3.ipynb): coming soon ...\n",
    "3. Individualized risk prediction following multivariable regression: [example 1](./act_0_0_7_6.ipynb), [example 2](./act_0_0_7_8.ipynb), example 3\n",
    "4. Stata code templates for those working with SRTR data can be found [here](./act_0_0_7_9.ipynb) and are update-to-date as of 02/2022. Subsequent updates will be subject to version control and will be available on GitHub.\n",
    "5. R code snippets for miscellaneous tasks can be found [here](./act_0_0_7_11.ipynb) and are only update-to-date as of 08/2022. Subsequent updates will be subject to version control and will be available on GitHub. \n",
    "6. Quick and dirty Python code to create a simulated dataset for living kidney donors can be found [here](./act_0_0_7_12.ipynb). While baseline characteristics of this population are available to the public via the SRTR, the longitudinal data are not. This code is meant to be a starting point and training ground before sharing a refined script that will be run onsite at the SRTR.\n",
    "7. Miscellaneous Stata code snippets can be found [here](./act_0_0_7_14.ipynb) and are only update-to-date as of 08/17/2023. Subsequent updates will be subject to version control and will be available on GitHub."
   ]
  }
 ],
 "metadata": {
  "language_info": {
   "name": "python"
  },
  "orig_nbformat": 4
 },
 "nbformat": 4,
 "nbformat_minor": 2
}
