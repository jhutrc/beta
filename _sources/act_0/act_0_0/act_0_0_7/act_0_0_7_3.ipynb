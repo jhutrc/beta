{
 "cells": [
  {
   "cell_type": "markdown",
   "metadata": {},
   "source": [
    "NHANES\n",
    "\n",
    "1. [Website](https://www.cdc.gov/nchs/nhanes/index.htm): \n",
    "   + see left margin for questionnaires, data, documentation, etc.\n",
    "   + click and scroll down left margin to NHANES III\n",
    "      - scroll down to Core data\n",
    "         - adult.DAT, adult.SAS, adult.PDF\n",
    "         - exam.DAT, exam.SAS, exam.PDF\n",
    "         - lab.DAT, lab.SAS, lab.PDF\n",
    "   + later review NHANES 1999-2000\n",
    "      - demographics\n",
    "         - demo doc (`very convenient codebook`)\n",
    "         - DEMO.XPT\n",
    "2. Surveys:\n",
    "   + NHANES III (1988-1994)\n",
    "    + Adults 17+\n",
    "    + Exam \n",
    "    + Lab \n",
    "    + Questionnaire\n",
    "   + NHANES Continuous (1999-2018)\n",
    "    + Demo\n",
    "    + Exam\n",
    "    + Lab\n",
    "    + Questionnaire\n",
    "    + Dietary\n",
    "    + Restricted Data\n",
    "3. Linkages:\n",
    "   + Mortality\n",
    "   + ESRD\n",
    "4. Potential\n",
    "   + Quantify 30-year risk of ESRD (1988-2018)\n",
    "   + Quantify 30-year risk of mortality (1988-2018)\n",
    "   + Deploy models as web app & risk calculators\n",
    "   + Individualize risk prediction for these outcomes\n",
    "5. Challenges\n",
    "   + Over 120 datafiles to download\n",
    "   + Data cleaning\n",
    "   + Harmonization\n",
    "6. Opportunities\n",
    "   + Some data cleaning [already done](faculty_9_3.ipynb)\n",
    "   + Preliminary [30-year mortality](faculty_9_4.ipynb) \n",
    "   + Can neglect variables on sampling weights\n",
    "   + We are `never` interested in the population, but rather in the individual\n",
    "   + I'm speaking from the perspective of a clinician, not a statistician\n",
    "   + School of Medicine, not Bloomberg School\n"
   ]
  }
 ],
 "metadata": {
  "language_info": {
   "name": "python"
  },
  "orig_nbformat": 4
 },
 "nbformat": 4,
 "nbformat_minor": 2
}
