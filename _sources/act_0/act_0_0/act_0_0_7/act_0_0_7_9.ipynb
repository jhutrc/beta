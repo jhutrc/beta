{
 "cells": [
  {
   "cell_type": "markdown",
   "metadata": {},
   "source": [
    "\n",
    "\n",
    "1. [Patient survival/death](https://raw.githubusercontent.com/jhutrc/jhutrc.github.io/main/1.patient.survival.do): Refers to whether the patient survived following the transplantation or not.\n",
    "2. [Graft survival](https://raw.githubusercontent.com/jhutrc/jhutrc.github.io/main/2.graft.survival.do): Relates to the success of the transplanted organ. Death-censored refers to the survival of the graft without considering the death of the patient as a failure, while all-cause includes all reasons.\n",
    "3. [DGF (Delayed Graft Function)](https://raw.githubusercontent.com/jhutrc/jhutrc.github.io/main/3.dgf.do): A complication where the kidney doesn't function immediately after transplantation.\n",
    "4. [PNF (Primary Non-Function)](https://raw.githubusercontent.com/jhutrc/jhutrc.github.io/main/4.pnf.do): When the transplanted kidney never functions.\n",
    "5. [Acute rejection](https://raw.githubusercontent.com/jhutrc/jhutrc.github.io/main/5.acute.rejection.do): The body’s immediate reaction to recognizing the kidney as foreign.\n",
    "6. [Racial category](https://raw.githubusercontent.com/jhutrc/jhutrc.github.io/main/6.racial.category.do): The race of the patient, which may be considered in studies examining disparities in transplant outcomes.\n",
    "7. [PRA (Panel Reactive Antibody), Time-varying PRA](https://raw.githubusercontent.com/jhutrc/jhutrc.github.io/main/7.pra.do): Measures how likely a patient will react against different human leukocyte antigens (HLA).\n",
    "8. [Kidney disease etiology/diagnosis](https://raw.githubusercontent.com/jhutrc/jhutrc.github.io/main/8.kidney.disease.etiology.do): The underlying cause or diagnosis of the kidney disease.\n",
    "9. [Fix ABO](https://raw.githubusercontent.com/jhutrc/jhutrc.github.io/main/9.fix.abo.do)/[ABO mismatch](https://raw.githubusercontent.com/jhutrc/jhutrc.github.io/main/9.abo.mismatch.do): Blood type matching and compatibility between donor and recipient.\n",
    "10. [Age](https://raw.githubusercontent.com/jhutrc/jhutrc.github.io/main/10.age.do) at transplant in years. \n",
    "11. [BMI](https://raw.githubusercontent.com/jhutrc/jhutrc.github.io/main/11.bmi.do): Body Mass Index, a measure of body fat.\n",
    "12. [CIT (Cold Ischemia Time)](https://raw.githubusercontent.com/jhutrc/jhutrc.github.io/main/12.cit.do): The time the organ is kept on ice before transplantation.\n",
    "13. [Donor DM, HTN, terminal SCr > 1.5, ECD](https://raw.githubusercontent.com/jhutrc/jhutrc.github.io/main/13.donorDM.htn.scr.ecd.do), [SCr Assessment](https://raw.githubusercontent.com/jhutrc/jhutrc.github.io/main/13.SCr.Assessment.do): Characteristics of the donor, such as diabetes mellitus, hypertension, terminal serum creatinine, and extended criteria donor classification.\n",
    "14. [HLA mismatch](https://raw.githubusercontent.com/jhutrc/jhutrc.github.io/main/14.hla.mismatch.do): Differences in human leukocyte antigens between donor and recipient.\n",
    "15. [Duration of pre-KT dialysis](https://raw.githubusercontent.com/jhutrc/jhutrc.github.io/main/15.duration.of.dialysis.do): The time on dialysis before kidney transplantation.\n",
    "16. HCV: Hepatitis C virus, considered for [candidate](https://raw.githubusercontent.com/jhutrc/jhutrc.github.io/main/16.candidate.hcv.do), [recipient](https://raw.githubusercontent.com/jhutrc/jhutrc.github.io/main/16.recipient.hcv.do), and [donor](https://raw.githubusercontent.com/jhutrc/jhutrc.github.io/main/16.donor.hcv.do).\n",
    "17. [HCC](https://raw.githubusercontent.com/jhutrc/jhutrc.github.io/main/17.hcc.do): Hepatocellular carcinoma, a type of liver cancer.\n",
    "18. [Immunosuppression/Induction](https://raw.githubusercontent.com/jhutrc/jhutrc.github.io/main/18.immunosuppression.do): Medications to prevent organ rejection.\n",
    "19. [Insurance](https://raw.githubusercontent.com/jhutrc/jhutrc.github.io/main/19.insurance.do): Coverage for the transplantation procedure.\n",
    "20. [KDRI/KDPI](https://raw.githubusercontent.com/jhutrc/jhutrc.github.io/main/20.kdpr.do), [DRI](https://raw.githubusercontent.com/jhutrc/jhutrc.github.io/main/21.dri.do), [EPTS](https://raw.githubusercontent.com/jhutrc/jhutrc.github.io/main/22.epts.do): Various scores and indices to evaluate the quality and suitability of a donor organ.\n",
    "21. [Machine perfusion](https://raw.githubusercontent.com/jhutrc/jhutrc.github.io/main/23.machine.perfusion.do): A method to preserve organs outside the body.\n",
    "22. [MELD](https://raw.githubusercontent.com/jhutrc/jhutrc.github.io/main/24.meld.do): Model for End-Stage Liver Disease score, used to prioritize liver transplant candidates.\n",
    "23. [Previous solid organ Tx/previous KT](https://raw.githubusercontent.com/jhutrc/jhutrc.github.io/main/25.previous.transplant.do): History of prior organ transplants or kidney transplants.\n",
    "24. [Organ Sharing](https://raw.githubusercontent.com/jhutrc/jhutrc.github.io/main/26.organ.sharing.do): Policies governing how organs are allocated.\n",
    "25. [De-identification Code](https://raw.githubusercontent.com/jhutrc/jhutrc.github.io/main/27.d-identification.code.do): A code to anonymize patient information.\n",
    "26. [Transplant Date](https://raw.githubusercontent.com/jhutrc/jhutrc.github.io/main/28.transplant.date.do): The date when the transplant was performed.\n",
    "27. [LDPKI](https://raw.githubusercontent.com/jhutrc/jhutrc.github.io/main/29.ldpki.do): Living Donor Profile Index, a measure used to assess the quality of living kidney donors.\n",
    "\n",
    "These terms encompass a complex and multifaceted procedure, reflecting the many variables and factors that can affect the outcomes of a kidney transplant.\n",
    "\n",
    "Some additional notes on the data can be found [here](./act_0_0_7_10.ipynb)"
   ]
  }
 ],
 "metadata": {
  "language_info": {
   "name": "python"
  },
  "orig_nbformat": 4
 },
 "nbformat": 4,
 "nbformat_minor": 2
}
