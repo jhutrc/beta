{
 "cells": [
  {
   "cell_type": "markdown",
   "metadata": {},
   "source": [
    "1. [Seasonal variations in living kidney donation in the United States 1987-2023](./act_0_0_3_3.ipynb)\n",
    "2. Risk of ESRD in older related living kidney donors"
   ]
  }
 ],
 "metadata": {
  "language_info": {
   "name": "python"
  },
  "orig_nbformat": 4
 },
 "nbformat": 4,
 "nbformat_minor": 2
}
