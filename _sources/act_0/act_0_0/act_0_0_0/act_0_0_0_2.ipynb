{
 "cells": [
  {
   "cell_type": "markdown",
   "metadata": {},
   "source": [
    "1. NHANES\n",
    "\n",
    "   + [Table 1](high_school_students_1_1.ipynb)\n",
    "   + Figure 1\n",
    "\n",
    "2. Donors "
   ]
  }
 ],
 "metadata": {
  "language_info": {
   "name": "python"
  },
  "orig_nbformat": 4
 },
 "nbformat": 4,
 "nbformat_minor": 2
}
