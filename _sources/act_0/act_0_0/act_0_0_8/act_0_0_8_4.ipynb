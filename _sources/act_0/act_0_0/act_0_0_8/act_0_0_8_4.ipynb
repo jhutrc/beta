{
 "cells": [
  {
   "cell_type": "markdown",
   "metadata": {},
   "source": [
    "NHANES Data\n",
    "   \n",
    "1. Overview\n",
    "   - Multiple survey cycles\n",
    "   - Unweighted data (we don't do prevalence estimates in our work)\n",
    "   - Virtually any combination of variables \n",
    "      - Demographics\n",
    "      - Labs\n",
    "      - Examination data\n",
    "      - Questionnaire data\n",
    "      - Dietary data\n",
    "      - Restricted data\n",
    "    - Output in a SAS format that is easy to use for NCHS/CDC analysts\n",
    "      - .CSV file\n",
    "      - .XPT file\n",
    "      - .SAS7BDAT file (ideal but we don't have the SAS license & will be using Stata)\n",
    "      - .DTA file (Not an option of interest)\n",
    "\n",
    "2. Start off \n",
    "\n",
    "   - [Abi's code](../act_0_0_7/act_0_0_7_5.ipynb) is a nice place to start\n",
    "   -  Modify it to fit RDC/NCHS/CDC needs"
   ]
  }
 ],
 "metadata": {
  "language_info": {
   "name": "python"
  },
  "orig_nbformat": 4
 },
 "nbformat": 4,
 "nbformat_minor": 2
}
