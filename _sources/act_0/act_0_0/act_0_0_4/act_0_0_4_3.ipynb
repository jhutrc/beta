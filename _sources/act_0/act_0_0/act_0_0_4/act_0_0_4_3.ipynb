{
 "cells": [
  {
   "cell_type": "markdown",
   "metadata": {},
   "source": [
    "\n",
    "1.1 Install the relevant packages\n",
    "\n",
    "```r\n",
    "suppressWarnings({\n",
    "  invisible({\n",
    "    rm(list = ls())\n",
    "\n",
    "    if (!require(icdpicr, quietly = TRUE, warn.conflicts = FALSE)) install.packages('icdpicr')\n",
    "    if (!require(dplyr, quietly = TRUE, warn.conflicts = FALSE)) install.packages('dplyr')\n",
    "    if (!require(readr, quietly = TRUE, warn.conflicts = FALSE)) install.packages('readr')\n",
    "    if (!require(tidyr, quietly = TRUE, warn.conflicts = FALSE)) install.packages('tidyr')\n",
    "\n",
    "    library(icdpicr, quietly = TRUE, warn.conflicts = FALSE)\n",
    "    library(dplyr, quietly = TRUE, warn.conflicts = FALSE)\n",
    "    library(readr, quietly = TRUE, warn.conflicts = FALSE)\n",
    "    library(tidyr, quietly = TRUE, warn.conflicts = FALSE)\n",
    "  })\n",
    "})\n",
    "```\n",
    "\n",
    "1.2 Get some documentation\n",
    "\n",
    "```r\n",
    "ls(\"package:icdpicr\")\n",
    "```\n",
    "\n",
    "1.3 Study the syntax\n",
    "\n",
    "```r\n",
    "print(cat_trauma)\n",
    "```\n",
    "\n",
    "1.4 What is the value of dx_pre?\n",
    "\n",
    "```r\n",
    "print(injury)\n",
    "```\n",
    "\n",
    "1.5 As such, the syntax is:\n",
    "\n",
    "```r\n",
    "# use subset of injury given its size\n",
    "inj = injury[1:100,1:3]\n",
    "df_score = cat_trauma(df=inj, dx_pre=\"dx\", icd10=TRUE, i10_iss_method=\"roc_max_NIS\", calc_method=1, verbose=FALSE)\n",
    "# visualize the output\n",
    "df_score[1:9,1:9]; df_score[1:9,10:14]; df_score[1:9,15:18]; df_score[1:9,34:35]\n",
    "```\n",
    "\n",
    "---"
   ]
  }
 ],
 "metadata": {
  "language_info": {
   "name": "python"
  },
  "orig_nbformat": 4
 },
 "nbformat": 4,
 "nbformat_minor": 2
}
