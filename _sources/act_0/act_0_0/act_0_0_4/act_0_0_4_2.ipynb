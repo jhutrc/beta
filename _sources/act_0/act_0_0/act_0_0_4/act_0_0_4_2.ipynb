{
 "cells": [
  {
   "cell_type": "markdown",
   "metadata": {},
   "source": [
    "1. Using a [package in r](residents_3_1.ipynb) (i'm only familiar with Stata)"
   ]
  }
 ],
 "metadata": {
  "language_info": {
   "name": "python"
  },
  "orig_nbformat": 4
 },
 "nbformat": 4,
 "nbformat_minor": 2
}
