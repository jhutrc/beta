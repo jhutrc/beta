{
 "cells": [
  {
   "cell_type": "markdown",
   "metadata": {},
   "source": [
    "1. Non-academic clinicians\n",
    "2. Public health professionals\n",
    "3. Health service officers\n",
    "4. Economists: health service\n",
    "5. Managers of health services\n",
    "6. Reaseachers: health service\n",
    "7. Educators, consumers, advocates"
   ]
  }
 ],
 "metadata": {
  "language_info": {
   "name": "python"
  },
  "orig_nbformat": 4
 },
 "nbformat": 4,
 "nbformat_minor": 2
}
