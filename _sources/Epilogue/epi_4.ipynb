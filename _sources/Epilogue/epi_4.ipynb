{
 "cells": [
  {
   "cell_type": "markdown",
   "metadata": {},
   "source": [
    "# Grants\n",
    "\n",
    "<script type=\"text/javascript\" src=\"https://nettskjema.no/static/js/external-embedding.js\"></script><iframe class=\"nettskjema-iframe\" src=\"https://nettskjema.no/a/exbooks?embed=1\" title=\"SfM-photogrammetry\" frameborder=\"0\" width=\"100%\">If you can read this, your browser does not support iframes. Please proceed to https://nettskjema.no/a/exbooks.</iframe>\n"
   ]
  }
 ],
 "metadata": {
  "language_info": {
   "name": "python"
  },
  "orig_nbformat": 4
 },
 "nbformat": 4,
 "nbformat_minor": 2
}
