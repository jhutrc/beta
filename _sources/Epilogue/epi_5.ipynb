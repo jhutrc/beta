{
 "cells": [
  {
   "cell_type": "markdown",
   "metadata": {},
   "source": [
    "#  Proposals\n",
    "\n",
    "No epilogue, I pray you; for your play needs [no excuse](https://www.gutenberg.org/files/1514/1514-h/1514-h.htm).\n",
    "\n",
    "```{admonition} Work in progress\n",
    ":class: warning\n",
    "\n",
    "This page is currently under construction.\n",
    "Check back at a later stage :).\n",
    "```\n",
    "\n",
    "```{admonition} Topodrone Toposetter 2.0 Tutorial video\n",
    ":class: seealso\n",
    "<iframe width=\"560\" height=\"315\" src=\"https://www.youtube-nocookie.com/embed/gtTSzUV1B3k\" title=\"YouTube video player\" frameborder=\"0\" allow=\"accelerometer; autoplay; clipboard-write; encrypted-media; gyroscope; picture-in-picture\" allowfullscreen></iframe>\n",
    "```\n"
   ]
  }
 ],
 "metadata": {
  "language_info": {
   "name": "python"
  },
  "orig_nbformat": 4
 },
 "nbformat": 4,
 "nbformat_minor": 2
}
