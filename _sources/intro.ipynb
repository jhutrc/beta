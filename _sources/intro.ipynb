{
 "cells": [
  {
   "cell_type": "markdown",
   "metadata": {},
   "source": [
    "# Welcome to Fena\n",
    "\n",
    "Life in clinical research is a series of challenges. Some are big and require real determination, while others are smaller, everyday hurdles. At Fena, we don't just recognize these challenges; we see them as opportunities for growth, innovation, and triumph.\n",
    "\n",
    "**[Begin Your Journey](./preface.ipynb)**\n",
    "\n",
    "---\n",
    "\n",
    "*Yaffe ffena[.](https://www.youtube.com/watch?v=4GuMQXRl0_0)*  \n",
    "*我们同舟共济*    \n",
    "*نحن جميعاً معاً*        \n",
    "*כולנו בזה ביחד*      \n",
    "*Todos estamos en esto juntos*   \n",
    "*Nous sommes tous dans le même bateau*     \n",
    "*Wir sitzen alle im selben Boot*      \n",
    "*Siamo tutti nella stessa barca*     \n",
    "*Estamos todos juntos nisso*   \n",
    "*We zitten hier allemaal samen in*   \n",
    "*Мы все в этом вместе*        \n",
    "*हम सब इसमें साथ हैं*      \n",
    "*ما همه در این هستیم به همراه*      \n",
    "*これは私たちみんなのものです*        \n",
    "*Sisi sote tuko pamoja katika hili*   \n",
    "*Sisonke kule*   \n",
    "*Awa gbogbo ni lori e pelu*   \n",
    "*Anyị nile nọ n'ime ya*   \n",
    "*우리는 모두 함께 이것에 있습니다*    \n",
    "*Olemme kaikki tässä yhdessä*     \n",
    "*እኛ ሁሉም በዚህ ተባበርንዋል*    \n",
    "*Hinqabu fi hinqabu jechuun*   \n",
    "*ምንም ነገርና እኛ በእኛ*   \n",
    "*આપણે બધા આમાં જ છીએ* \n"
   ]
  }
 ],
 "metadata": {
  "kernelspec": {
   "display_name": "myenv",
   "language": "python",
   "name": "python3"
  },
  "language_info": {
   "codemirror_mode": {
    "name": "ipython",
    "version": 3
   },
   "file_extension": ".py",
   "mimetype": "text/x-python",
   "name": "python",
   "nbconvert_exporter": "python",
   "pygments_lexer": "ipython3",
   "version": "3.11.4"
  },
  "orig_nbformat": 4
 },
 "nbformat": 4,
 "nbformat_minor": 2
}
