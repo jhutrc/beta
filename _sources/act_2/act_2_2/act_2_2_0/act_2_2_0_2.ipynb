{
 "cells": [
  {
   "cell_type": "markdown",
   "metadata": {},
   "source": [
    "# 8. Twoway \n",
    "\n",
    "## $\\rho$\n",
    "\n",
    " "
   ]
  }
 ],
 "metadata": {
  "language_info": {
   "name": "python"
  },
  "orig_nbformat": 4
 },
 "nbformat": 4,
 "nbformat_minor": 2
}
