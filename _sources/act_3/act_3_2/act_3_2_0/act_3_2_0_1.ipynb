{
 "cells": [
  {
   "cell_type": "markdown",
   "metadata": {},
   "source": [
    "# Stata programming\n",
    "\n",
    "## Basic\n",
    "## Intermediate\n",
    "### Advanced\n"
   ]
  }
 ],
 "metadata": {
  "language_info": {
   "name": "python"
  },
  "orig_nbformat": 4
 },
 "nbformat": 4,
 "nbformat_minor": 2
}
