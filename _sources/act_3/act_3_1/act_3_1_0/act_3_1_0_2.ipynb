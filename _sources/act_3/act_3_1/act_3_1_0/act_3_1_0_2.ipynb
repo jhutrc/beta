{
 "cells": [
  {
   "cell_type": "markdown",
   "metadata": {},
   "source": [
    "# Bash\n",
    "\n",
    "A `bash` script can combine any number of tasks or even more complex operations, and when executed, it will **run** each command in the specified order. This allows for automation and streamlining of tasks that might be time-consuming or **error-prone** if performed manually.\n",
    " "
   ]
  }
 ],
 "metadata": {
  "language_info": {
   "name": "python"
  },
  "orig_nbformat": 4
 },
 "nbformat": 4,
 "nbformat_minor": 2
}
