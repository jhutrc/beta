{
 "cells": [
  {
   "cell_type": "markdown",
   "metadata": {},
   "source": [
    "# Git\n",
    "\n",
    "```{margin}\n",
    "```{admonition} Goals\n",
    ":class: tip\n",
    "\n",
    "1. Directly commit changes to the repository\n",
    "2. Or use GitHub Desktop to commit changes to the repository\n",
    "3. But ideally learn how to use the command line for this task\n",
    "```\n",
    "\n",
    "### 1.3.1 Recognizing the Value of Inclusivity\n",
    "\n",
    "In our role as clinical researchers at an academic medical institution, we recognize the value of inclusivity and collaboration in the development process of our projects. Inspired by successful practices in the tech industry, we have embraced an open-door policy, inviting contributions and insights from individuals with diverse backgrounds.\n",
    "\n",
    "### 1.3.2 Emphasizing a Flat Hierarchy\n",
    "\n",
    "Within our team, we prioritize a flat hierarchy, where every member's input and ideas are treated with equal importance. We firmly believe that diversity of thought, ranging from experienced faculty members to enthusiastic high school students, can lead to innovative solutions and continual improvements.\n",
    "\n",
    "### 1.3.3 Facilitating Seamless Collaboration\n",
    "\n",
    "To facilitate seamless collaboration, we have adopted Git, a version control system widely used in software development. This allows our contributors to propose changes through branching, empowering them to experiment freely with new ideas without disrupting the main project.\n",
    "\n",
    "### 1.3.4 Implementing a Collaborative Review Process\n",
    "\n",
    "Proposed changes undergo a collaborative review process, where we collectively assess their impact, relevance, and alignment with our research objectives. Decisions regarding code integrations are made through open discussions, and consensus is reached based on the merits of each idea.\n",
    "\n",
    "### 1.3.5 Gradual Integration through Merging\n",
    "\n",
    "The best ideas are gradually accepted and integrated into our research projects through merging branches. Git enables us to combine contributions seamlessly, ensuring a smooth and cohesive development process.\n",
    "\n",
    "### 1.3.6 Safety Net with Version Control\n",
    "\n",
    "In our pursuit of excellence, we acknowledge that mistakes may occur during the development process. Fortunately, Git's capability to revert to previous versions provides a valuable safety net. Should any issues arise, we can quickly revert to a stable version and proceed with further improvements.\n",
    "\n",
    "### 1.3.7 Continual Evolution in Research\n",
    "\n",
    "By cultivating an inclusive and collaborative environment, we ensure that our research projects continuously evolve to address evolving needs. We highly value the collective wisdom of contributors from various backgrounds, as it enriches the development process and enables us to tackle complex medical challenges effectively.\n",
    "\n",
    "### 1.3.8 Inviting Contributions from Diverse Individuals\n",
    "\n",
    "As clinical researchers, we extend an open invitation to anyone interested in contributing to our projects. Whether you are an undergraduate, graduate student, medical professional, resident, fellow, faculty member, or collaborator, we welcome your ideas and insights. Your unique perspective will help us create impactful solutions that positively influence patient care and medical research.\n",
    "\n",
    "### 1.3.9 Striving for a Meaningful Difference\n",
    "\n",
    "Together, we strive to make a meaningful difference in the healthcare community. By fostering inclusivity, collaboration, and adaptability through Git, we aim to push the boundaries of clinical research and deliver innovative solutions that enhance healthcare outcomes. Let's create a future of excellence in medical research, driven by collective wisdom and collaborative efforts. 🚀🏥"
   ]
  }
 ],
 "metadata": {
  "language_info": {
   "name": "python"
  },
  "orig_nbformat": 4
 },
 "nbformat": 4,
 "nbformat_minor": 2
}
