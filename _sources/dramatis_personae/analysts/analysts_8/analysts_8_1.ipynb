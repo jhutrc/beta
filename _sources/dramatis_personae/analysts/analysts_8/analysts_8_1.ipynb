{
 "cells": [
  {
   "cell_type": "markdown",
   "metadata": {},
   "source": [
    "1. Getting setup with Python (for Jupyter notebooks):\n",
    "\n",
    "- 1.1. Installing Python\n",
    "\n",
    "    - 1.1.1. Installing Python on Windows\n",
    "        - For a linux-like environment on Windows, I recommend [Cygwin](https://www.cygwin.com/).  You can install Python from the Cygwin installer.\n",
    "        - For a more native Windows experience, you can install [Anaconda](https://www.continuum.io/downloads).  Anaconda is a Python distribution that includes many of the packages we will use in this course.  It also includes the Jupyter notebook server, which we will use to run our notebooks.  Anaconda is a large download, but it is a good option if you are new to Python.\n",
    "        - If you are already familiar with Python, you can install the packages we will use in this course using `pip` or `conda`.  See the [requirements.txt](requirements.txt) file for a list of packages we will use in this course.\n",
    "\n",
    "    - 1.1.2. Installing Python on Mac OS X\n",
    "        - For a linux-like environment on Mac OS X, I recommend [Homebrew](http://brew.sh/).  You can install Python from the Homebrew installer.\n",
    "        - For a more native Mac OS X experience, you can install [Anaconda](https://www.continuum.io/downloads).  Anaconda is a Python distribution that includes many of the packages we will use in this course.  It also includes the Jupyter notebook server, which we will use to run our notebooks.  Anaconda is a large download, but it is a good option if you are new to Python.\n",
    "        - If you are already familiar with Python, you can install the packages we will use in this course using `pip` or `conda`.  See the [requirements.txt](requirements.txt) file for a list of packages we will use in this course.\n",
    "        - If you are already familiar with Python, you can install the packages we will use in this course using `pip` or `conda`.  See the [requirements.txt](requirements.txt) file for a list of packages we will use in this course.\n",
    "\n",
    "    - 1.1.3. Installing Python on Linux\n",
    "\n",
    "        - For a linux-like environment on Linux, you can install Python using your package manager.  For example, on Ubuntu, you can install Python using `sudo apt-get install python3 python3-pip python3-dev`.  You can then install the packages we will use in this course using `pip` or `conda`.  See the [requirements.txt](requirements.txt) file for a list of packages we will use in this course.\n",
    "        - For a more native Linux experience, you can install [Anaconda](https://www.continuum.io/downloads).  Anaconda is a Python distribution that includes many of the packages we will use in this course.  It also includes the Jupyter notebook server, which we will use to run our notebooks.  Anaconda is a large download, but it is a good option if you are new to Python.\n",
    "        - If you are already familiar with Python, you can install the packages we will use in this course using `pip` or `conda`.  See the [requirements.txt](requirements.txt) file for a list of packages we will use in this course.\n",
    "    \n",
    "- 1.2. Installing Jupyter notebook\n",
    "    - If you installed Anaconda, you already have Jupyter notebook installed.  If you installed Python using your package manager, you can install Jupyter notebook using `pip install jupyter`.\n",
    "\n",
    "- 1.3. Installing packages\n",
    "\n",
    "    - If you installed Anaconda, you already have many of the packages we will use in this course.  If you installed Python using your package manager, you can install the packages we will use in this course using `pip install -r requirements.txt`.  See the [requirements.txt](requirements.txt) file for a list of packages we will use in this course.\n",
    "- 1.4. Running Jupyter\n",
    "    - To run Jupyter, open a terminal and type `jupyter notebook`.  This will open a browser window with the Jupyter notebook server.  You can then open a notebook by clicking on the notebook file in the browser window.\n",
    "- 1.5. Running Jupyter on a remote server\n",
    "    - If you are using a remote server, you will need to install Jupyter notebook on the remote server.  See the [Jupyter documentation](http://jupyter.readthedocs.io/en/latest/install.html) for more information.\n",
    "\n",
    "2. Getting setup with R (for Jupyter notebooks):\n",
    "\n",
    "- 2.1. Installing R\n",
    "    - If you installed Anaconda, you already have R installed.  If you installed Python using your package manager, you can install R using your package manager.\n",
    "\n",
    "- 2.2. Installing R kernel for Jupyter notebook\n",
    "\n",
    "    - If you installed Anaconda, you already have the R kernel for Jupyter notebook installed.  If you installed Python using your package manager, you can install the R kernel for Jupyter notebook using `conda install -c r r-irkernel`.\n",
    "\n",
    "- 2.3. Installing packages\n",
    "\n",
    "\n",
    "3. Getting setup with VS Code in Windows:\n",
    "\n",
    "- 3.1. Installing VS Code\n",
    "    - Download and install VS Code from [here](https://code.visualstudio.com/). You can also install VS Code using the Anaconda installer.\n"
   ]
  }
 ],
 "metadata": {
  "language_info": {
   "name": "python"
  },
  "orig_nbformat": 4
 },
 "nbformat": 4,
 "nbformat_minor": 2
}
