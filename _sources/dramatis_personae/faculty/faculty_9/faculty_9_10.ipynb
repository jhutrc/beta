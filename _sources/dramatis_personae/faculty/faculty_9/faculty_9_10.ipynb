{
 "cells": [
  {
   "cell_type": "code",
   "execution_count": 1,
   "metadata": {
    "tags": [
     "hide-input"
    ]
   },
   "outputs": [
    {
     "name": "stdout",
     "output_type": "stream",
     "text": [
      "Saved dataset to simulated_data.csv\n",
      "count    1000.000000\n",
      "mean        0.076490\n",
      "std         0.074920\n",
      "min         0.000031\n",
      "25%         0.023223\n",
      "50%         0.053088\n",
      "75%         0.105863\n",
      "max         0.567201\n",
      "Name: Time_to_Kidney_Failure, dtype: float64\n",
      "Status\n",
      "1.0    1000\n",
      "Name: count, dtype: int64\n"
     ]
    }
   ],
   "source": [
    "import numpy as np\n",
    "import pandas as pd\n",
    "from scipy.stats import multivariate_normal\n",
    "\n",
    "# Constants\n",
    "N = 1000\n",
    "\n",
    "# Means and covariance matrix for continuous variables (age, SBP, SCr, BMI, HbA1c)\n",
    "mean_cont = [40, 124, 1, 27, 6]\n",
    "cov_matrix = [\n",
    "    [25, 5, 0.01, 2, 0.1],\n",
    "    [5, 121, 0.02, 4, 0.2],\n",
    "    [0.01, 0.02, 0.0004, 0.01, 0.001],\n",
    "    [2, 4, 0.01, 25, 0.2],\n",
    "    [0.1, 0.2, 0.001, 0.2, 0.64]\n",
    "]\n",
    "cont_vars = multivariate_normal.rvs(mean=mean_cont, cov=cov_matrix, size=N)\n",
    "\n",
    "# Simulating categorical variables (Race, Education) and binary variables (Diabetes, Hypertension, Smoke, Male)\n",
    "race = np.random.choice([0, 1, 2, 3, 4], N, p=[0.37, 0.23, 0.23, 0.13, 0.04])\n",
    "education = np.random.choice([0, 1, 2, 3], N, p=[0.16, 0.42, 0.22, 0.20])\n",
    "diabetes = np.random.choice([0, 1], N, p=[0.88, 0.12])\n",
    "hypertension = np.random.choice([0, 1], N, p=[0.69, 0.31])\n",
    "smoke = np.random.choice([0, 1], N, p=[0.43, 0.57])\n",
    "male = np.random.choice([0, 1], N, p=[0.5, 0.5]) # Assuming a 50-50 split\n",
    "\n",
    "# Hazard function incorporating the given hazard ratios\n",
    "def hazard_function(x):\n",
    "    age, race, male, diabetes, hypertension, uacr, egfr, sbp, smoke = x\n",
    "    hr = 0.5*age + [1, 3.2, 4, 0.7, 1.1][race] + 1.2*male + 5.2*diabetes + 1.0*hypertension + 4.0*uacr + 2.7*egfr + 2.3*sbp + 1.8*smoke\n",
    "    return hr\n",
    "\n",
    "# Simulating time to event (kidney failure) based on the hazard function\n",
    "time_to_failure = np.zeros(N)\n",
    "status = np.zeros(N)\n",
    "for i in range(N):\n",
    "    x = (cont_vars[i, 0], race[i], male[i], diabetes[i], hypertension[i], cont_vars[i, 2], cont_vars[i, 3], cont_vars[i, 1], smoke[i])\n",
    "    hr = hazard_function(x)\n",
    "    time_to_failure[i] = np.random.exponential(30/hr)\n",
    "    status[i] = time_to_failure[i] < 30\n",
    "\n",
    "# Combine all variables into DataFrame\n",
    "data = np.column_stack([cont_vars, diabetes, hypertension, smoke, race, education, male, time_to_failure, status])\n",
    "columns = ['age', 'SBP', 'SCr', 'BMI', 'HbA1c', 'Diabetes', 'Hypertension', 'Smoke', 'Race', 'Education', 'Male', 'Time_to_Kidney_Failure', 'Status']\n",
    "df = pd.DataFrame(data, columns=columns)\n",
    "df['Race'] = df['Race'].astype(int).map({0: 'White', 1: 'Black', 2: 'Hispanic', 3: 'Asian', 4: 'Other'})\n",
    "df['Education'] = df['Education'].astype(int).map({0: 'K-8', 1: 'High School', 2: 'Some college', 3: 'College'})\n",
    "\n",
    "# Save to CSV\n",
    "csv_file = 'simulated_data.csv'\n",
    "df.to_csv(csv_file, index=False)\n",
    "print(f\"Saved dataset to {csv_file}\")\n",
    "\n",
    "# Print summaries\n",
    "print(df['Time_to_Kidney_Failure'].describe())\n",
    "print(df['Status'].value_counts())"
   ]
  }
 ],
 "metadata": {
  "kernelspec": {
   "display_name": "myenv",
   "language": "python",
   "name": "python3"
  },
  "language_info": {
   "codemirror_mode": {
    "name": "ipython",
    "version": 3
   },
   "file_extension": ".py",
   "mimetype": "text/x-python",
   "name": "python",
   "nbconvert_exporter": "python",
   "pygments_lexer": "ipython3",
   "version": "3.11.4"
  },
  "orig_nbformat": 4
 },
 "nbformat": 4,
 "nbformat_minor": 2
}
