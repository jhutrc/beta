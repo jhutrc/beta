{
 "cells": [
  {
   "cell_type": "markdown",
   "metadata": {},
   "source": [
    "The Cox proportional hazards model assumes that the hazard functions of two different groups are proportional to each other:\n",
    "$$\n",
    "h_1(t) = h_0(t) \\exp(\\beta)\n",
    "$$\n",
    "where $h_1(t)$ and $h_0(t)$ are the hazard functions for the two groups, and $\\beta$ is the coefficient representing the effect of a covariate (such as treatment).\n",
    "\n",
    "Now, the survival function is related to the hazard function through:\n",
    "$$\n",
    "S(t) = \\exp\\left(-\\int_{0}^{t} h(u) \\,du\\right)\n",
    "$$\n",
    "\n",
    "Applying this relationship to both groups:\n",
    "- For the baseline group:\n",
    "  $$\n",
    "  S_0(t) = \\exp\\left(-\\int_{0}^{t} h_0(u) \\,du\\right)\n",
    "  $$\n",
    "- For the other group:\n",
    "  $$\n",
    "  S_1(t) = \\exp\\left(-\\int_{0}^{t} h_1(u) \\,du\\right) = \\exp\\left(-\\int_{0}^{t} h_0(u)\\exp(\\beta) \\,du\\right)\n",
    "  $$\n",
    "\n",
    "Now, you can rewrite the expression for $S_1(t)$ using the expression for $S_0(t)$:\n",
    "$$\n",
    "S_1(t) = \\exp\\left(\\exp(\\beta)\\int_{0}^{t} h_0(u) \\,du\\right) = \\exp\\left(\\exp(\\beta) \\cdot \\left(-\\log S_0(t)\\right)\\right) = S_0(t)^{\\exp(\\beta)}\n",
    "$$\n",
    "\n",
    "This shows the relationship between the survival functions under the assumption of proportional hazards. It encapsulates the idea that the effect of the covariate (as captured by $\\beta$ has a multiplicative effect on the hazard, which leads to an exponential effect on the survival function."
   ]
  }
 ],
 "metadata": {
  "language_info": {
   "name": "python"
  },
  "orig_nbformat": 4
 },
 "nbformat": 4,
 "nbformat_minor": 2
}
