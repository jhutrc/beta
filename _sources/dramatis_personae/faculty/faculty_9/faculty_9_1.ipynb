{
 "cells": [
  {
   "cell_type": "markdown",
   "metadata": {},
   "source": [
    "1. [Perioperative and long-term risks following nephrectomy in older live kidney donors](https://grantome.com/grant/NIH/K08-AG065520-01)    \n",
    "\n",
    "The number of older adults (aged?55) undergoing live donor nephrectomy has quadrupled over the last two decades and this trend is likely to continue.        \n",
    "\n",
    "However, a knowledge gap exists in our understanding of the resiliencies to physical stress in older donors. Beyond age-related vulnerability to surgical stress, this aging population may have significant glomerular senescence, an inadequate adaptive response to the 50% loss of nephron mass and, as such, a very high likelihood of CKD in their lifetime.             \n",
    "\n",
    "Approximately 80% of older donors have a postdonation GFR<60 ml/min/1.73m2 and meet the standard definition of CKD. As older donors progress towards CKD, they are likely to become frail and, as such, at increased risk of hospitalization. No study has focused on the identification of clinical signatures of resiliency in older persons undergoing live donor nephrectomy.         \n",
    "\n",
    "The renal system is directly impacted by nephrectomy and its resiliency may affect the health and well-being of older donors. Provider discussions with these potential donors should focus on the patient's most important question: ?Can I safely donate my kidney? not the population-level question asked by the 2017 KDIGO guidelines: ?How many ESRD events in younger donors may be averted by transplanting older donors instead?       \n",
    "\n",
    "We propose the following scientific aims: 1. To quantify donation-attributable risk of ESRD and mortality in older donors; 2. To describe the prevalence of hospitalizations in older donors vs. older nondonors; and 3. To implement a risk calculator for ESRD, mortality and sentinel hospitalization in older donors. A detailed training plan for Abimereki Muzaale, MD, MPH is outlined in this proposal.    \n",
    "\n",
    "In brief, it includes enrollment in the PhD in Clinical Investigation Program at The Johns Hopkins University, in-depth course work in aging research, and a mentorship plan jointly prepared by the principal investigator and a team with expertise in kidney disease, aging research, information sciences, and the mentorship of junior faculty. This team will help the candidate meet the following career goals:       \n",
    "\n",
    "   1. Receive formal training in aging research\n",
    "   2. Apply for and obtain R01 grant funding\n",
    "   3. Transition to independence. \n",
    "   \n",
    "Our efforts will culminate in the creation of online risk calculators that inform the conversation between candidates and providers about the propriety of donation.    \n",
    "\n",
    "Dr. Muzaale will learn how sentinel hospitalization events in an aging cohort of older donors leave a footprint of present and missing data that will be methodically crucial in preparing an R01 proposal to characterize trajectories of resiliency from laboratory, physical, cognitive, and other tests.   \n",
    "\n",
    "Public Health Relevance   \n",
    "\n",
    "Over the last 20 years, the number of older adults (aged?55) undergoing live donor nephrectomy has increased 4-fold. In light of an aging US population, the new kidney transplant allocation system, and recent changes to Kidney Disease: Improving Global Outcomes (KDIGO) practice guidelines, this trend is likely to continue. The goal of this project is to improve our understanding of the perioperative and long-term risks most pertinent to older donors in order to inform dialogue with care providers.   "
   ]
  }
 ],
 "metadata": {
  "language_info": {
   "name": "python"
  },
  "orig_nbformat": 4
 },
 "nbformat": 4,
 "nbformat_minor": 2
}
