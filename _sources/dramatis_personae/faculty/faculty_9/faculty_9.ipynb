{
 "cells": [
  {
   "cell_type": "markdown",
   "metadata": {},
   "source": [
    "1. Perioperative and long-term risks following nephrectomy in [older](faculty_9_0.ipynb) [living kidney donors](https://www.amjtransplant.org/article/S1600-6135(22)27840-X/fulltext)  \n",
    "2. A user-friendly Stata command for creating an NHANES dataset: coming soon ..[.](faculty_9_11.ipynb)\n",
    "3. Individualized risk prediction following multivariable regression: [example 1](faculty_9_4.ipynb), [example 2](faculty_9_6.ipynb), example 3\n",
    "4. Stata code templates for those working with SRTR data can be found [here](faculty_9_7.ipynb) and are only update-to-date as of 02/2022. Subsequent updates will be subject to version control and will be available on GitHub.\n",
    "5. R code snippets for miscellaneous tasks can be found [here](faculty_9_9.ipynb) and are only update-to-date as of 08/2022. Subsequent updates will be subject to version control and will be available on GitHub. \n",
    "6. Quick and dirty Python code to create a simulated dataset for living kidney donors can be found [here](faculty_9_10.ipynb). While baseline characteristics of this population are available to the public via the SRTR, the longitudinal data are not. This code is meant to be a starting point and training ground before sharing a refined script that will be run onsite at the SRTR."
   ]
  }
 ],
 "metadata": {
  "language_info": {
   "name": "python"
  },
  "orig_nbformat": 4
 },
 "nbformat": 4,
 "nbformat_minor": 2
}
