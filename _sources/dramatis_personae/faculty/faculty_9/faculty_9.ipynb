{
 "cells": [
  {
   "cell_type": "markdown",
   "metadata": {},
   "source": [
    "1. Perioperative and long-term risks following nephrectomy in [older](faculty_9_0.ipynb) [live kidney donors](https://www.amjtransplant.org/article/S1600-6135(22)27840-X/fulltext)\n",
    "2. Creating a user-friendly Stata command for creating an [NHANES dataset](faculty_9_1.ipynb) with the following features\n",
    "\n",
    "\n"
   ]
  }
 ],
 "metadata": {
  "language_info": {
   "name": "python"
  },
  "orig_nbformat": 4
 },
 "nbformat": 4,
 "nbformat_minor": 2
}
