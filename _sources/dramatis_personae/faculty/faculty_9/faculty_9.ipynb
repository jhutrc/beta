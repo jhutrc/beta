{
 "cells": [
  {
   "cell_type": "markdown",
   "metadata": {},
   "source": [
    "1. Perioperative and long-term risks following nephrectomy in [older](faculty_9_0.ipynb) [live kidney donors](https://www.amjtransplant.org/article/S1600-6135(22)27840-X/fulltext)\n",
    "2. A user-friendly Stata command for creating an NHANES dataset \n",
    "3. Individualized risk prediction following multivariable regression: [example 1](faculty_9_4.ipynb), [example 2](faculty_9_6.ipynb), example 3\n",
    "4. Stata code templates for those working with SRTR data can be found [here](faculty_9_7.ipynb) and are only update-to-date as of 02/2022. Subsequent updates will be subject to version control and will be available on GitHub."
   ]
  }
 ],
 "metadata": {
  "language_info": {
   "name": "python"
  },
  "orig_nbformat": 4
 },
 "nbformat": 4,
 "nbformat_minor": 2
}
