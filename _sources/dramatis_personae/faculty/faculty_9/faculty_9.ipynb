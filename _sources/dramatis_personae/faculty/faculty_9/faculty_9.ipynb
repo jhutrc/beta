{
 "cells": [
  {
   "cell_type": "markdown",
   "metadata": {},
   "source": [
    "1. [Perioperative and long-term risks following nephrectomy in older live kidney donors][faculty_9_0.ipynb]\n",
    "2. Creating a user-friendly Stata command for creating an NHANES dataset with the following features\n",
    "\n",
    "\n"
   ]
  }
 ],
 "metadata": {
  "language_info": {
   "name": "python"
  },
  "orig_nbformat": 4
 },
 "nbformat": 4,
 "nbformat_minor": 2
}
