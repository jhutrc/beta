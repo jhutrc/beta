{
 "cells": [
  {
   "cell_type": "markdown",
   "metadata": {},
   "source": [
    "\n",
    "1. **Introduction**:\n",
    "   - [Project](https://github.com/jhurepos/projectalpha/blob/main/seasons_projectalpha_0/seasons.docx) led by Andrew, studying seasonality of kidney donation in the U.S.\n",
    "   - Examining implications and reversal of donor decline.\n",
    "\n",
    "2. **Background**:\n",
    "   - Observed decline in kidney donors.\n",
    "   - No identified factors explaining/reversing the decline.\n",
    "\n",
    "3. **Objectives**:\n",
    "   - Investigate seasonality and factors contributing to it in kidney donation.\n",
    "\n",
    "4. **Methodology**:\n",
    "   - Data from 1987-2023, using Poisson regression. **Fourier series for analysis (Github co-pilot AI suggested)**.\n",
    "\n",
    "6. **Results**:\n",
    "   - Identification of summer surge in donations from 1987-2023.\n",
    "\n",
    "7. **Discussion**:\n",
    "   - Emphasizing significance of seasonal variation and potential implications.\n",
    "\n",
    "8. **Current Status**:\n",
    "   - Latest version edited by Abi.\n",
    "\n",
    "9. **Next Steps**:\n",
    "   - Fawaz to comment, then Andrew updates manuscript for co-authors.\n",
    "\n",
    "10. **Remark**:\n",
    "   - Project documentation hosted on Github; collaboration details.\n",
    "\n",
    "11. **Version history**:\n",
    "   - History until 08/13/2023 missing due to deletion on new platform.\n"
   ]
  }
 ],
 "metadata": {
  "language_info": {
   "name": "python"
  },
  "orig_nbformat": 4
 },
 "nbformat": 4,
 "nbformat_minor": 2
}
