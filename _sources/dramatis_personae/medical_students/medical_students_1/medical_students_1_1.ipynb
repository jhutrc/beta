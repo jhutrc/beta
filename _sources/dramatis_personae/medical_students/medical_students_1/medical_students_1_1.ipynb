{
 "cells": [
  {
   "cell_type": "markdown",
   "metadata": {},
   "source": [
    "1. Introduction:\n",
    "   Our collaborative [research project](https://github.com/afecdvi/og/blob/main/seasons.docx) is led by andrew and aimed at investigating the seasonality of living kidney donation in the United States. We explore the potential implications of this seasonality and its role in reversing the concerning patterns of general decline in living kidney donors over nearly two decades.\n",
    "\n",
    "2. Background:\n",
    "   We discuss the observed patterns of decline in the annual number of living kidney donors in the United States, which vary based on the donor-recipient relationship. Then we highlight the absence of identified factors explaining and reversing these patterns thus far.\n",
    "\n",
    "3. Objectives:\n",
    "   The specific objectives for this research project include examining the seasonality in living kidney donation and investigating potentially modifiable social, economic, and structural factors that may contribute to this seasonality.\n",
    "\n",
    "4. Methodology:\n",
    "   Data are from the SRTR and span from 1987 to March 2023. We utilized Poisson regression analysis, stratified by both donor-recipient biological relationship and estimated household income tertiles, to quantify the observed trends. We also used a Fourier series to model the seasonal variation in living kidney donation rates. (suggested by the Github co-pilot AI)\n",
    "\n",
    "6. Results:\n",
    "   Herein we present our key findings derived from the data analysis. Highlight the novel identification of a summer-only surge in living kidney donations, consistently observed across all decades from 1987 to March 2023, regardless of donor-recipient relationship and income tertiles.\n",
    "\n",
    "7. Discussion:\n",
    "   Interpret the results within the context of our research objectives, emphasizing the significance of the observed seasonal variation in living kidney donation rates. Discuss the potential implications of these findings, particularly the influence of structural factors on donation patterns and the identification of possible targets for increasing donation rates.\n",
    "\n",
    "8. Current Status:\n",
    "   Andrew accepted changes on 08/02/2023 as of 1:27PM and will use the following github commit statement: `Send to Fawaz for review`\n",
    "\n",
    "9. Next Steps:\n",
    "   Show-case how efficient Github + `Fena` is for collaborative writing. All it took to update the system was the following on the command line:\n",
    "\n",
    "```bash\n",
    " % mb/mbog.sh\n",
    "```\n",
    "\n",
    "10. Remark:\n",
    "    When do Andrew and Fawaz get to create their own GitHub accounts? Hopefully soon! **Introduce** idea of SSH keys and how they can be used to authenticate users without passwords. This is a very secure way to authenticate users and is used by many companies and organizations.\n"
   ]
  }
 ],
 "metadata": {
  "language_info": {
   "name": "python"
  },
  "orig_nbformat": 4
 },
 "nbformat": 4,
 "nbformat_minor": 2
}
