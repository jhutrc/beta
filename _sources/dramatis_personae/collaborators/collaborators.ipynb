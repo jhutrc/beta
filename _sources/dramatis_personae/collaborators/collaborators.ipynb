{
 "cells": [
  {
   "cell_type": "markdown",
   "metadata": {},
   "source": [
    "<span style=\"color: pink;\">Collaborators</span>    \n",
    "\n",
    "1. [Fawaz Al Ammary](fawaz_al_ammary/fawaz_al_ammary.ipynb)\n",
    "2. Sophia Turner\n",
    "3. Ethan Cruz\n",
    "4. Hannah Murphy\n",
    "5. Caleb Reyes\n",
    "6. Zoe Harper\n",
    "7. Gabriel Ortega\n",
    "8. Avery Rhodes\n",
    "\n"
   ]
  }
 ],
 "metadata": {
  "language_info": {
   "name": "python"
  },
  "orig_nbformat": 4
 },
 "nbformat": 4,
 "nbformat_minor": 2
}
