{
 "cells": [
  {
   "cell_type": "markdown",
   "metadata": {},
   "source": [
    "1. Calvin has replicated Table 1 from our healthy nondonor study:\n",
    "   \n",
    "   + N = 70,000\n",
    "   + 60% of the population is healthy\n",
    "   + And 30% is obese\n",
    "\n",
    "2. Thus far he has only included variables from the following datasets\n",
    "\n",
    "   + Demo\n",
    "   + Diet\n",
    "   + Exam\n",
    "   + Lab\n",
    "   + Questionnaire\n",
    "   + Restricted Data"
   ]
  }
 ],
 "metadata": {
  "language_info": {
   "name": "python"
  },
  "orig_nbformat": 4
 },
 "nbformat": 4,
 "nbformat_minor": 2
}
