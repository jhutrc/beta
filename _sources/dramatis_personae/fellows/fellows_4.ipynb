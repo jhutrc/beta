{
 "cells": [
  {
   "cell_type": "markdown",
   "metadata": {},
   "source": [
    "1. What are the odds of being eligible for cisplatin therapy among black patients with bladder cancer when a race-free eGFR is used? And how do those odds compare with those when CKD-EPI 2009 is used? How does that translate into the impact on the incidence of adverse outcomes and on long-term clinical outcomes? Are these outlined odds significantly different for white patients with bladder cancer?\n",
    "\n",
    "```bash\n",
    "digraph G {\n",
    "    \n",
    "    label = \"\\n\\n Figure 1. Odds of eligibility for cisplatin in black patients with bladder cancer when race-free eGFR is used\";\n",
    "    rankdir = \"TB\";\n",
    "\n",
    "    // Graph layout parameters\n",
    "    graph [splines=polyline, nodesep=1];\n",
    "    edge [dir=none, color=\"black\"];\n",
    "    node [shape=box, style=\"rounded, filled\"];\n",
    "\n",
    "    // Define nodes\n",
    "    start [label=\"Bladder Cancer\", pos=\"0,2.5!\"];\n",
    "    eligibility [shape=point, width=0, height=0, pos=\"0,2!\"];\n",
    "   // eligibility [label=\"eGFR>60ml/min\", fillcolor=\"honeydew\", pos=\"0,2!\"]\n",
    "    //random1 [shape=point, width=0, height=0, pos=\"0,0!\"];\n",
    "    random1 [label=\"eGFR>60ml/min\", fillcolor=\"honeydew\", pos=\"0,0!\"]\n",
    "    random_aspirin [shape=point, width=0, height=0, pos=\"-2.5,0!\"];\n",
    "    random_no_aspirin [shape=point, width=0, height=0, pos=\"2.5,0!\"];\n",
    "    beta_aspirin [shape=point, width=0, height=0, pos=\"-4,-2.5!\"];\n",
    "    placebo_aspirin [shape=point, width=0, height=0, pos=\"-1,-2.5!\"];\n",
    "    random2 [label=\"CKD-EPI 2021\", fillcolor=\"lightblue\", pos=\"-2.5,-2.5!\"];\n",
    "    random3 [label=\"CKD-EPI 2009\", fillcolor=\"lightpink\", pos=\"2.5,-2.5!\"];\n",
    "    beta_no_aspirin [shape=point, width=0, height=0, pos=\"1,-2.5!\"];\n",
    "    placebo_no_aspirin [shape=point, width=0, height=0, pos=\"4,-2.5!\"];\n",
    "    follow_up1 [label=\"Cisplatin+\", fillcolor=\"lightyellow\", pos=\"-4,-5!\"];\n",
    "    follow_up2 [label=\"Cisplatin-\", fillcolor=\"lightcoral\", pos=\"-1,-5!\"];\n",
    "    follow_up3 [label=\"Cisplatin+\", fillcolor=\"lightyellow\", pos=\"1,-5!\"];\n",
    "    follow_up4 [label=\"Cisplatin-\", fillcolor=\"lightcoral\", pos=\"4,-5!\"];\n",
    "\n",
    "    // Define edges\n",
    "    start -> eligibility;\n",
    "    eligibility -> random1;\n",
    "    random1 -> random_aspirin;\n",
    "    random1 -> random_no_aspirin;\n",
    "    random_aspirin -> random2;\n",
    "    random2 -> beta_aspirin;\n",
    "    random2 -> placebo_aspirin;\n",
    "    random_no_aspirin -> random3;\n",
    "    random3 -> beta_no_aspirin;\n",
    "    random3 -> placebo_no_aspirin;\n",
    "    beta_aspirin -> follow_up1;\n",
    "    placebo_aspirin -> follow_up2;\n",
    "    beta_no_aspirin -> follow_up3;\n",
    "    placebo_no_aspirin -> follow_up4;\n",
    "\n",
    "    // Same level definition\n",
    "    {\n",
    "        rank=same;\n",
    "        random_no_aspirin;\n",
    "        random_aspirin;\n",
    "        random1; // Centered random node\n",
    "    }\n",
    "}\n",
    "\n",
    "```\n",
    "\n",
    "```bash\n",
    "neato -Tpng fig1.dot -o fig1_cisplatin.png\n",
    "```\n",
    "\n",
    "![](../.././images/fig1_cisplatin.png)"
   ]
  },
  {
   "cell_type": "markdown",
   "metadata": {},
   "source": [
    "# "
   ]
  }
 ],
 "metadata": {
  "language_info": {
   "name": "python"
  },
  "orig_nbformat": 4
 },
 "nbformat": 4,
 "nbformat_minor": 2
}
